{
 "cells": [
  {
   "cell_type": "markdown",
   "id": "8bd1bb34-b726-45f6-8046-fb11e3281999",
   "metadata": {},
   "source": [
    "# Data Science Tools and Ecosystem"
   ]
  },
  {
   "cell_type": "markdown",
   "id": "46f62e60-0a91-460f-a4be-7beaf1b90d88",
   "metadata": {
    "tags": []
   },
   "source": [
    "## In this notebook, Data Science Tools and Ecosystem are summarized.\n"
   ]
  },
  {
   "cell_type": "markdown",
   "id": "85bde41e-875a-4810-a7da-bfcb134b5137",
   "metadata": {
    "tags": []
   },
   "source": [
    "#### **Objectives**\n",
    "* list of popular libraries\n",
    "* list of popular tools\n",
    "* popular languages"
   ]
  },
  {
   "cell_type": "markdown",
   "id": "0b71bc1d-8705-40e7-8981-ac2ad3ddb1a1",
   "metadata": {},
   "source": [
    "### Some of the popular languages that Data Scientists use are:\n",
    "1. Python\n",
    "2. R\n",
    "3. Java\n",
    "4. Julia"
   ]
  },
  {
   "cell_type": "code",
   "execution_count": null,
   "id": "bfbe953f-721d-44b3-8f3e-42ad4a0ab0ad",
   "metadata": {},
   "outputs": [],
   "source": []
  },
  {
   "cell_type": "markdown",
   "id": "fb3c558e-4bbc-422a-821e-0c50e947f6c0",
   "metadata": {},
   "source": [
    "### Some of the commonly used libraries used by Data Scientists include:\n",
    "\n",
    "1. NumPy\n",
    "2. PANDAS \n",
    "3. TensorFlow\n",
    "4. Scikit-learn\n",
    "5. Seaborn\n",
    "6. Matplotlib\n"
   ]
  },
  {
   "cell_type": "markdown",
   "id": "95b288ba-e69b-4253-8db2-9e4f839c700f",
   "metadata": {
    "tags": []
   },
   "source": [
    "### Data Science Tools \n",
    "| Data science tools | \n",
    "|---------| \n",
    "| Jupyter Notebook |\n",
    "| IBM SPSS |\n",
    " | Julia |\n",
    "| MATLAB |\n",
    " | MatplotLib |"
   ]
  },
  {
   "cell_type": "markdown",
   "id": "48f9463b-6337-4100-9d7e-d371ae4225f9",
   "metadata": {},
   "source": [
    "### Below are a few examples of evaluating arithmetic expressions in Python\n",
    "\n"
   ]
  },
  {
   "cell_type": "code",
   "execution_count": 2,
   "id": "7ceaf4cd-1be0-4c43-8a0e-3fdf7af782ba",
   "metadata": {
    "tags": []
   },
   "outputs": [
    {
     "data": {
      "text/plain": [
       "17"
      ]
     },
     "execution_count": 2,
     "metadata": {},
     "output_type": "execute_result"
    }
   ],
   "source": [
    " (3*4)+5\n",
    "   # This a simple arithmetic expression to mutiply then add integers."
   ]
  },
  {
   "cell_type": "code",
   "execution_count": 12,
   "id": "d2cddd5f-766e-4465-aa46-776139092524",
   "metadata": {
    "tags": []
   },
   "outputs": [
    {
     "name": "stdout",
     "output_type": "stream",
     "text": [
      "3 hour 20 minute\n"
     ]
    }
   ],
   "source": [
    "# This will convert 200 minutes to hours by diving by 60\n",
    "t =200\n",
    "n= t//60\n",
    "m = t-n*60\n",
    "print(n,'hour',m,'minute')"
   ]
  },
  {
   "cell_type": "markdown",
   "id": "e36cb305-4ee9-4b70-9221-7e3c06619d8e",
   "metadata": {},
   "source": [
    "## Author\n",
    "\n",
    "András Győrfi"
   ]
  },
  {
   "cell_type": "code",
   "execution_count": null,
   "id": "c9927bf8-ba46-468f-9146-e1911ee50f54",
   "metadata": {},
   "outputs": [],
   "source": []
  }
 ],
 "metadata": {
  "kernelspec": {
   "display_name": "Python",
   "language": "python",
   "name": "conda-env-python-py"
  },
  "language_info": {
   "codemirror_mode": {
    "name": "ipython",
    "version": 3
   },
   "file_extension": ".py",
   "mimetype": "text/x-python",
   "name": "python",
   "nbconvert_exporter": "python",
   "pygments_lexer": "ipython3",
   "version": "3.7.12"
  }
 },
 "nbformat": 4,
 "nbformat_minor": 5
}
